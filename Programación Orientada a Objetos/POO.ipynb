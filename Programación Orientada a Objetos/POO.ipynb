{
 "cells": [
  {
   "cell_type": "code",
   "execution_count": 1,
   "id": "0b8f6114",
   "metadata": {},
   "outputs": [],
   "source": [
    "class Galleta:\n",
    "    pass"
   ]
  },
  {
   "cell_type": "code",
   "execution_count": 3,
   "id": "7a42a60e",
   "metadata": {},
   "outputs": [],
   "source": [
    "una_galleta = Galleta()\n",
    "otra_galleta = Galleta()"
   ]
  },
  {
   "cell_type": "code",
   "execution_count": 4,
   "id": "e094b4d3",
   "metadata": {},
   "outputs": [
    {
     "data": {
      "text/plain": [
       "__main__.Galleta"
      ]
     },
     "execution_count": 4,
     "metadata": {},
     "output_type": "execute_result"
    }
   ],
   "source": [
    "type(una_galleta)"
   ]
  },
  {
   "cell_type": "code",
   "execution_count": 5,
   "id": "817624b5",
   "metadata": {},
   "outputs": [
    {
     "data": {
      "text/plain": [
       "int"
      ]
     },
     "execution_count": 5,
     "metadata": {},
     "output_type": "execute_result"
    }
   ],
   "source": [
    "type(10)"
   ]
  },
  {
   "cell_type": "code",
   "execution_count": 6,
   "id": "d2d79db1",
   "metadata": {},
   "outputs": [],
   "source": [
    "una_galleta.sabor = \"Salado\""
   ]
  },
  {
   "cell_type": "code",
   "execution_count": 7,
   "id": "276e4259",
   "metadata": {},
   "outputs": [],
   "source": [
    "una_galleta.color = \"Marron\""
   ]
  },
  {
   "cell_type": "code",
   "execution_count": 8,
   "id": "4ff0382a",
   "metadata": {},
   "outputs": [
    {
     "name": "stdout",
     "output_type": "stream",
     "text": [
      "El sabor de esta galleta es  Salado\n"
     ]
    }
   ],
   "source": [
    "print(\"El sabor de esta galleta es \", una_galleta.sabor)"
   ]
  },
  {
   "cell_type": "code",
   "execution_count": 9,
   "id": "36ba5919",
   "metadata": {},
   "outputs": [],
   "source": [
    "class Galleta:\n",
    "    chocolate = False\n",
    "    \n",
    "g = Galleta()"
   ]
  },
  {
   "cell_type": "code",
   "execution_count": 10,
   "id": "b30c2584",
   "metadata": {},
   "outputs": [
    {
     "data": {
      "text/plain": [
       "False"
      ]
     },
     "execution_count": 10,
     "metadata": {},
     "output_type": "execute_result"
    }
   ],
   "source": [
    "g.chocolate"
   ]
  },
  {
   "cell_type": "code",
   "execution_count": 11,
   "id": "064089f9",
   "metadata": {},
   "outputs": [
    {
     "name": "stdout",
     "output_type": "stream",
     "text": [
      "Se acaba de crear una galleta.\n"
     ]
    }
   ],
   "source": [
    "class Galleta:\n",
    "    chocolate = False\n",
    "    def __init__(self):\n",
    "        print(\"Se acaba de crear una galleta.\")\n",
    "    \n",
    "g = Galleta()"
   ]
  },
  {
   "cell_type": "code",
   "execution_count": 12,
   "id": "27ef40f3",
   "metadata": {},
   "outputs": [
    {
     "name": "stdout",
     "output_type": "stream",
     "text": [
      "Se acaba de crear una galleta.\n",
      "Soy una galleta sin chocolate :-(\n",
      "Soy una galleta chocolateada :-D\n"
     ]
    }
   ],
   "source": [
    "class Galleta:\n",
    "    chocolate = False\n",
    "    def __init__(self):\n",
    "        print(\"Se acaba de crear una galleta.\")\n",
    "    def chocolatear(self):\n",
    "        self.chocolate = True\n",
    "    def tiene_chocolate(self):\n",
    "        if(self.chocolate):\n",
    "            print(\"Soy una galleta chocolateada :-D\")\n",
    "        else:\n",
    "            print(\"Soy una galleta sin chocolate :-(\")\n",
    "    \n",
    "g = Galleta()\n",
    "g.tiene_chocolate()\n",
    "g.chocolatear()\n",
    "g.tiene_chocolate()"
   ]
  },
  {
   "cell_type": "code",
   "execution_count": 14,
   "id": "71b29057",
   "metadata": {},
   "outputs": [
    {
     "name": "stdout",
     "output_type": "stream",
     "text": [
      "Se ha creado la película El Padrino\n",
      "Se está borrando la película El Padrino\n"
     ]
    }
   ],
   "source": [
    "class Pelicula:\n",
    "    # Constructor de clase (al crear la instancia)\n",
    "    def __init__(self,titulo,duracion,lanzamiento):\n",
    "        self.titulo = titulo\n",
    "        self.duracion = duracion\n",
    "        self.lanzamiento = lanzamiento\n",
    "        print(\"Se ha creado la película\",self.titulo)\n",
    "        \n",
    "    # Destructor de clase (al borrar la instancia)\n",
    "    def __del__(self):\n",
    "        print(\"Se está borrando la película\", self.titulo)\n",
    "p = Pelicula(\"El Padrino\",175,1972)"
   ]
  },
  {
   "cell_type": "code",
   "execution_count": 16,
   "id": "e65a9723",
   "metadata": {},
   "outputs": [
    {
     "data": {
      "text/plain": [
       "<__main__.Pelicula at 0x22427265bd0>"
      ]
     },
     "execution_count": 16,
     "metadata": {},
     "output_type": "execute_result"
    }
   ],
   "source": [
    "p"
   ]
  },
  {
   "cell_type": "code",
   "execution_count": 20,
   "id": "45fac418",
   "metadata": {},
   "outputs": [
    {
     "name": "stdout",
     "output_type": "stream",
     "text": [
      "Se ha creado la película El Padrino\n"
     ]
    }
   ],
   "source": [
    "class Pelicula:\n",
    "    # Constructor de clase (al crear la instancia)\n",
    "    def __init__(self,titulo,duracion,lanzamiento):\n",
    "        self.titulo = titulo\n",
    "        self.duracion = duracion\n",
    "        self.lanzamiento = lanzamiento\n",
    "        print(\"Se ha creado la película\",self.titulo)\n",
    "        \n",
    "    # Destructor de clase (al borrar la instancia)\n",
    "    def __del__(self):\n",
    "        print(\"Se está borrando la película\", self.titulo)\n",
    "    def __str__(self):\n",
    "        return \"{} lanzada en {} con una duración de {} minutos\".format(self.titulo, self.lanzamiento, self.duracion)\n",
    "p = Pelicula(\"El Padrino\",175,1972)"
   ]
  },
  {
   "cell_type": "code",
   "execution_count": 21,
   "id": "f39a3ee1",
   "metadata": {},
   "outputs": [
    {
     "data": {
      "text/plain": [
       "'El Padrino lanzada en 1972 con una duración de 175 minutos'"
      ]
     },
     "execution_count": 21,
     "metadata": {},
     "output_type": "execute_result"
    }
   ],
   "source": [
    "str(p)"
   ]
  },
  {
   "cell_type": "code",
   "execution_count": 22,
   "id": "7fd09a71",
   "metadata": {},
   "outputs": [
    {
     "ename": "TypeError",
     "evalue": "object of type 'Pelicula' has no len()",
     "output_type": "error",
     "traceback": [
      "\u001b[1;31m---------------------------------------------------------------------------\u001b[0m",
      "\u001b[1;31mTypeError\u001b[0m                                 Traceback (most recent call last)",
      "Cell \u001b[1;32mIn[22], line 1\u001b[0m\n\u001b[1;32m----> 1\u001b[0m \u001b[38;5;28mlen\u001b[39m(p)\n",
      "\u001b[1;31mTypeError\u001b[0m: object of type 'Pelicula' has no len()"
     ]
    }
   ],
   "source": [
    "len(p)"
   ]
  },
  {
   "cell_type": "code",
   "execution_count": 23,
   "id": "8d72377e",
   "metadata": {},
   "outputs": [
    {
     "name": "stdout",
     "output_type": "stream",
     "text": [
      "Se ha creado la película El Padrino\n",
      "Se está borrando la película El Padrino\n"
     ]
    }
   ],
   "source": [
    "class Pelicula:\n",
    "    # Constructor de clase (al crear la instancia)\n",
    "    def __init__(self,titulo,duracion,lanzamiento):\n",
    "        self.titulo = titulo\n",
    "        self.duracion = duracion\n",
    "        self.lanzamiento = lanzamiento\n",
    "        print(\"Se ha creado la película\",self.titulo)\n",
    "        \n",
    "    # Destructor de clase (al borrar la instancia)\n",
    "    def __del__(self):\n",
    "        print(\"Se está borrando la película\", self.titulo)\n",
    "    def __str__(self):\n",
    "        return \"{} lanzada en {} con una duración de {} minutos\".format(self.titulo, self.lanzamiento, self.duracion)\n",
    "    def __len__(self):\n",
    "        return self.duracion\n",
    "p = Pelicula(\"El Padrino\",175,1972)"
   ]
  },
  {
   "cell_type": "code",
   "execution_count": 24,
   "id": "81ece6ad",
   "metadata": {},
   "outputs": [
    {
     "data": {
      "text/plain": [
       "175"
      ]
     },
     "execution_count": 24,
     "metadata": {},
     "output_type": "execute_result"
    }
   ],
   "source": [
    "len(p)"
   ]
  },
  {
   "cell_type": "code",
   "execution_count": 25,
   "id": "10fcd665",
   "metadata": {},
   "outputs": [],
   "source": [
    "class Ejemplo:\n",
    "    __atributo_privado = \"Soy un atributo inalcanzable desde fuera\"\n",
    "    def __metodo_privado(self):\n",
    "        print(\"Soy un método inalcanzable desde fuera\")"
   ]
  },
  {
   "cell_type": "code",
   "execution_count": 26,
   "id": "95381043",
   "metadata": {},
   "outputs": [],
   "source": [
    "e = Ejemplo()"
   ]
  },
  {
   "cell_type": "code",
   "execution_count": 27,
   "id": "eca0fb19",
   "metadata": {},
   "outputs": [
    {
     "ename": "AttributeError",
     "evalue": "'Ejemplo' object has no attribute '__atributo_privado'",
     "output_type": "error",
     "traceback": [
      "\u001b[1;31m---------------------------------------------------------------------------\u001b[0m",
      "\u001b[1;31mAttributeError\u001b[0m                            Traceback (most recent call last)",
      "Cell \u001b[1;32mIn[27], line 1\u001b[0m\n\u001b[1;32m----> 1\u001b[0m e\u001b[38;5;241m.\u001b[39m__atributo_privado\n",
      "\u001b[1;31mAttributeError\u001b[0m: 'Ejemplo' object has no attribute '__atributo_privado'"
     ]
    }
   ],
   "source": [
    "e.__atributo_privado"
   ]
  },
  {
   "cell_type": "code",
   "execution_count": 28,
   "id": "de1414ff",
   "metadata": {},
   "outputs": [
    {
     "ename": "AttributeError",
     "evalue": "'Ejemplo' object has no attribute '__metodo_privado'",
     "output_type": "error",
     "traceback": [
      "\u001b[1;31m---------------------------------------------------------------------------\u001b[0m",
      "\u001b[1;31mAttributeError\u001b[0m                            Traceback (most recent call last)",
      "Cell \u001b[1;32mIn[28], line 1\u001b[0m\n\u001b[1;32m----> 1\u001b[0m e\u001b[38;5;241m.\u001b[39m__metodo_privado\n",
      "\u001b[1;31mAttributeError\u001b[0m: 'Ejemplo' object has no attribute '__metodo_privado'"
     ]
    }
   ],
   "source": [
    "e.__metodo_privado"
   ]
  },
  {
   "cell_type": "code",
   "execution_count": 29,
   "id": "4b93ac2e",
   "metadata": {},
   "outputs": [],
   "source": [
    "class Ejemplo:\n",
    "    __atributo_privado = \"Soy un atributo inalcanzable desde fuera\"\n",
    "    def __metodo_privado(self):\n",
    "        print(\"Soy un método inalcanzable desde fuera\")\n",
    "    def atributo_publico(self):\n",
    "        return self.__atributo_privado\n",
    "    def metodo_publico(self):\n",
    "        return self.__metodo_privado()"
   ]
  },
  {
   "cell_type": "code",
   "execution_count": 30,
   "id": "41007ada",
   "metadata": {},
   "outputs": [],
   "source": [
    "e = Ejemplo()"
   ]
  },
  {
   "cell_type": "code",
   "execution_count": 31,
   "id": "7ef2276b",
   "metadata": {},
   "outputs": [
    {
     "data": {
      "text/plain": [
       "'Soy un atributo inalcanzable desde fuera'"
      ]
     },
     "execution_count": 31,
     "metadata": {},
     "output_type": "execute_result"
    }
   ],
   "source": [
    "e.atributo_publico()"
   ]
  },
  {
   "cell_type": "code",
   "execution_count": 34,
   "id": "fcf9036b",
   "metadata": {},
   "outputs": [
    {
     "name": "stdout",
     "output_type": "stream",
     "text": [
      "Soy un método inalcanzable desde fuera\n"
     ]
    }
   ],
   "source": [
    "e.metodo_publico()"
   ]
  },
  {
   "cell_type": "code",
   "execution_count": 37,
   "id": "da7111dc",
   "metadata": {},
   "outputs": [],
   "source": [
    "class Producto:\n",
    "    def __init__(self, referencia, nombre, pvp, descripcion):\n",
    "        self.referencia = referencia\n",
    "        self.nombre = nombre\n",
    "        self.pvp = pvp\n",
    "        self.descripcion = descripcion\n",
    "        \n",
    "    def __str__(self):\n",
    "        return \"\"\"\\\n",
    "        REFERENCIA\\t{}\n",
    "        NOMBRE\\t\\t{}\n",
    "        PVP\\t\\t{}\n",
    "        DESCRIPCION\\t{}\"\"\".format(self.referencia, self.nombre, self.pvp, self.descripcion)"
   ]
  },
  {
   "cell_type": "code",
   "execution_count": 38,
   "id": "65d90c40",
   "metadata": {},
   "outputs": [
    {
     "name": "stdout",
     "output_type": "stream",
     "text": [
      "        REFERENCIA\t2304\n",
      "        NOMBRE\t\tVaso adornado\n",
      "        PVP\t\t15\n",
      "        DESCRIPCION\tVaso de porcelana adornado con árboles\n"
     ]
    }
   ],
   "source": [
    "class Adorno(Producto):\n",
    "    pass\n",
    "a = Adorno(2304, \"Vaso adornado\", 15, \"Vaso de porcelana adornado con árboles\")\n",
    "print(a)"
   ]
  },
  {
   "cell_type": "code",
   "execution_count": 39,
   "id": "8b1b7e35",
   "metadata": {},
   "outputs": [],
   "source": [
    "class Alimento(Producto):\n",
    "    productor = \"\"\n",
    "    distribuidor = \"\"\n",
    "    def __str__(self):\n",
    "        return \"\"\"\\\n",
    "        REFERENCIA\\t{}\n",
    "        NOMBRE\\t\\t{}\n",
    "        PVP\\t\\t{}\n",
    "        DESCRIPCION\\t{}\n",
    "        PRODUCTOR\\t{}\n",
    "        DISTRIBUIDOR\\t{}\"\"\".format(self.referencia, self.nombre, self.pvp, self.descripcion, self.productor, self.distribuidor)"
   ]
  },
  {
   "cell_type": "code",
   "execution_count": 40,
   "id": "c7e3b30a",
   "metadata": {},
   "outputs": [],
   "source": [
    "al = Alimento(2025, \"Botella de Aceite de Oliva Extra\", 5, \"250 ml\")"
   ]
  },
  {
   "cell_type": "code",
   "execution_count": 41,
   "id": "e5eedcad",
   "metadata": {},
   "outputs": [],
   "source": [
    "al.productor=\"La Aceitera\"\n",
    "al.distribuidor=\"Distribuciones SA\""
   ]
  },
  {
   "cell_type": "code",
   "execution_count": 42,
   "id": "03065902",
   "metadata": {},
   "outputs": [
    {
     "name": "stdout",
     "output_type": "stream",
     "text": [
      "        REFERENCIA\t2025\n",
      "        NOMBRE\t\tBotella de Aceite de Oliva Extra\n",
      "        PVP\t\t5\n",
      "        DESCRIPCION\t250 ml\n",
      "        PRODUCTOR\tLa Aceitera\n",
      "        DISTRIBUIDOR\tDistribuciones SA\n"
     ]
    }
   ],
   "source": [
    "print(al)"
   ]
  },
  {
   "cell_type": "code",
   "execution_count": 43,
   "id": "0800b46b",
   "metadata": {},
   "outputs": [],
   "source": [
    "class Libro(Producto):\n",
    "    isbn = \"\"\n",
    "    autor = \"\"\n",
    "    def __str__(self):\n",
    "        return \"\"\"\\\n",
    "        REFERENCIA\\t{}\n",
    "        NOMBRE\\t\\t{}\n",
    "        PVP\\t\\t{}\n",
    "        DESCRIPCION\\t{}\n",
    "        ISBN\\t{}\n",
    "        AUTOR\\t{}\"\"\".format(self.referencia, self.nombre, self.pvp, self.descripcion, self.isbn, self.autor)"
   ]
  },
  {
   "cell_type": "code",
   "execution_count": 44,
   "id": "c548a7e2",
   "metadata": {},
   "outputs": [
    {
     "name": "stdout",
     "output_type": "stream",
     "text": [
      "        REFERENCIA\t2036\n",
      "        NOMBRE\t\tCocina Mediterránea\n",
      "        PVP\t\t9\n",
      "        DESCRIPCION\tRecetas sanas y buenas\n",
      "        ISBN\t0-123456-78-9\n",
      "        AUTOR\tDoña Juana\n"
     ]
    }
   ],
   "source": [
    "li = Libro(2036,\"Cocina Mediterránea\",9,\"Recetas sanas y buenas\")\n",
    "li.isbn = \"0-123456-78-9\"\n",
    "li.autor = \"Doña Juana\"\n",
    "print(li)"
   ]
  },
  {
   "cell_type": "code",
   "execution_count": null,
   "id": "d43dd496",
   "metadata": {},
   "outputs": [],
   "source": [
    "li = Libro(2036,\"Monta\",9,\"Recetas sanas y buenas\")\n",
    "li.isbn = \"0-123456-78-10\"\n",
    "li.autor = \"Hp Lovecraft\"\n",
    "print(li)"
   ]
  }
 ],
 "metadata": {
  "kernelspec": {
   "display_name": "Python 3 (ipykernel)",
   "language": "python",
   "name": "python3"
  },
  "language_info": {
   "codemirror_mode": {
    "name": "ipython",
    "version": 3
   },
   "file_extension": ".py",
   "mimetype": "text/x-python",
   "name": "python",
   "nbconvert_exporter": "python",
   "pygments_lexer": "ipython3",
   "version": "3.11.5"
  }
 },
 "nbformat": 4,
 "nbformat_minor": 5
}
