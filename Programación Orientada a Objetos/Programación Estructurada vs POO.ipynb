{
 "cells": [
  {
   "cell_type": "code",
   "execution_count": null,
   "id": "6348185f",
   "metadata": {},
   "outputs": [],
   "source": [
    "clientes= [\n",
    "    {'Nombre': 'Hector', 'Apellidos':'Costa Guzman', 'dni':'11111111A'},\n",
    "    {'Nombre': 'Juan', 'Apellidos':'González Márquez', 'dni':'22222222B'}\n",
    "]"
   ]
  },
  {
   "cell_type": "code",
   "execution_count": null,
   "id": "bd2a60b1",
   "metadata": {},
   "outputs": [],
   "source": [
    "clientes"
   ]
  },
  {
   "cell_type": "code",
   "execution_count": null,
   "id": "244e7ae0",
   "metadata": {},
   "outputs": [],
   "source": [
    "def mostrar_clientes(clientes, dni):\n",
    "    for c in clientes:\n",
    "        if(dni == c['dni']):\n",
    "            print(\"{} {}\".format(c['Nombre'],c[\"Apellidos\"]))\n",
    "            return\n",
    "    print('Cliente no encontrado')"
   ]
  },
  {
   "cell_type": "code",
   "execution_count": null,
   "id": "ef112b83",
   "metadata": {},
   "outputs": [],
   "source": [
    "mostrar_clientes(clientes,'22222222B')"
   ]
  },
  {
   "cell_type": "code",
   "execution_count": null,
   "id": "deb4df0b",
   "metadata": {},
   "outputs": [],
   "source": [
    "def borrar_clientes(clientes, dni):\n",
    "    for i,c in enumerate(clientes):\n",
    "        if(dni == c['dni']):\n",
    "            del(clientes[i])\n",
    "            print(str(c),\"> BORRADO\")\n",
    "            return\n",
    "    print(\"Cliente no encontrado\")"
   ]
  },
  {
   "cell_type": "code",
   "execution_count": null,
   "id": "1a623e2c",
   "metadata": {},
   "outputs": [],
   "source": [
    "borrar_clientes(clientes,'22222222B')"
   ]
  },
  {
   "cell_type": "code",
   "execution_count": null,
   "id": "d50bb291",
   "metadata": {},
   "outputs": [],
   "source": [
    "clientes"
   ]
  },
  {
   "cell_type": "code",
   "execution_count": null,
   "id": "ca6a0099",
   "metadata": {},
   "outputs": [],
   "source": [
    "borrar_clientes(clientes,'22222222B')"
   ]
  },
  {
   "cell_type": "code",
   "execution_count": null,
   "id": "e282cd86",
   "metadata": {},
   "outputs": [],
   "source": []
  }
 ],
 "metadata": {
  "kernelspec": {
   "display_name": "Python 3 (ipykernel)",
   "language": "python",
   "name": "python3"
  },
  "language_info": {
   "codemirror_mode": {
    "name": "ipython",
    "version": 3
   },
   "file_extension": ".py",
   "mimetype": "text/x-python",
   "name": "python",
   "nbconvert_exporter": "python",
   "pygments_lexer": "ipython3",
   "version": "3.11.5"
  }
 },
 "nbformat": 4,
 "nbformat_minor": 5
}
