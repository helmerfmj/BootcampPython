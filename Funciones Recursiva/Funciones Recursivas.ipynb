{
 "cells": [
  {
   "cell_type": "code",
   "execution_count": 2,
   "id": "71ab907f",
   "metadata": {},
   "outputs": [
    {
     "name": "stdout",
     "output_type": "stream",
     "text": [
      "4\n",
      "3\n",
      "2\n",
      "1\n",
      "Booooooom\n",
      "Fin de la Función 0\n"
     ]
    }
   ],
   "source": [
    "def cuenta_atras(num):\n",
    "    num-=1\n",
    "    if num>0:\n",
    "        print(num)\n",
    "        cuenta_atras(num)\n",
    "    else:\n",
    "        print(\"Booooooom\")\n",
    "        print(\"Fin de la Función\", num)\n",
    "cuenta_atras(5)"
   ]
  },
  {
   "cell_type": "code",
   "execution_count": 3,
   "id": "a28ffa3a",
   "metadata": {},
   "outputs": [
    {
     "name": "stdout",
     "output_type": "stream",
     "text": [
      "Valor Inicial ->  5\n",
      "Valor Inicial ->  4\n",
      "Valor Inicial ->  3\n",
      "Valor Inicial ->  2\n",
      "Valor Inicial ->  1\n",
      "Valor Final -> 1\n",
      "Valor Final -> 2\n",
      "Valor Final -> 6\n",
      "Valor Final -> 24\n",
      "Valor Final -> 120\n"
     ]
    },
    {
     "data": {
      "text/plain": [
       "120"
      ]
     },
     "execution_count": 3,
     "metadata": {},
     "output_type": "execute_result"
    }
   ],
   "source": [
    "def factorial(num):\n",
    "    print(\"Valor Inicial -> \",num)\n",
    "    if num>1:\n",
    "        num = num*factorial(num-1)\n",
    "    print(\"Valor Final ->\", num)\n",
    "    return num\n",
    "\n",
    "factorial(5)"
   ]
  },
  {
   "cell_type": "code",
   "execution_count": null,
   "id": "7978ab4a",
   "metadata": {},
   "outputs": [],
   "source": []
  }
 ],
 "metadata": {
  "kernelspec": {
   "display_name": "Python 3 (ipykernel)",
   "language": "python",
   "name": "python3"
  },
  "language_info": {
   "codemirror_mode": {
    "name": "ipython",
    "version": 3
   },
   "file_extension": ".py",
   "mimetype": "text/x-python",
   "name": "python",
   "nbconvert_exporter": "python",
   "pygments_lexer": "ipython3",
   "version": "3.11.5"
  }
 },
 "nbformat": 4,
 "nbformat_minor": 5
}
