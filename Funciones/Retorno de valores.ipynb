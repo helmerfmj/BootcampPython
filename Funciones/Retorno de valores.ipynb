{
 "cells": [
  {
   "cell_type": "code",
   "execution_count": 1,
   "id": "4543b7e0",
   "metadata": {},
   "outputs": [
    {
     "data": {
      "text/plain": [
       "'Una cadena retornada'"
      ]
     },
     "execution_count": 1,
     "metadata": {},
     "output_type": "execute_result"
    }
   ],
   "source": [
    "def test():\n",
    "    return \"Una cadena retornada\"\n",
    "test()"
   ]
  },
  {
   "cell_type": "code",
   "execution_count": 2,
   "id": "bf1f95df",
   "metadata": {},
   "outputs": [
    {
     "name": "stdout",
     "output_type": "stream",
     "text": [
      "Una cadena retornada\n"
     ]
    }
   ],
   "source": [
    "print(test())"
   ]
  },
  {
   "cell_type": "code",
   "execution_count": 3,
   "id": "73b026ce",
   "metadata": {},
   "outputs": [
    {
     "name": "stdout",
     "output_type": "stream",
     "text": [
      "Una cadena retornada\n"
     ]
    }
   ],
   "source": [
    "c = test()\n",
    "print(c)"
   ]
  },
  {
   "cell_type": "code",
   "execution_count": 4,
   "id": "b7d13ad5",
   "metadata": {},
   "outputs": [
    {
     "ename": "TypeError",
     "evalue": "can only concatenate str (not \"int\") to str",
     "output_type": "error",
     "traceback": [
      "\u001b[1;31m---------------------------------------------------------------------------\u001b[0m",
      "\u001b[1;31mTypeError\u001b[0m                                 Traceback (most recent call last)",
      "Cell \u001b[1;32mIn[4], line 1\u001b[0m\n\u001b[1;32m----> 1\u001b[0m c \u001b[38;5;241m=\u001b[39m test() \u001b[38;5;241m+\u001b[39m \u001b[38;5;241m10\u001b[39m\n",
      "\u001b[1;31mTypeError\u001b[0m: can only concatenate str (not \"int\") to str"
     ]
    }
   ],
   "source": [
    "c = test() + 10"
   ]
  },
  {
   "cell_type": "code",
   "execution_count": 5,
   "id": "14c9b2d6",
   "metadata": {},
   "outputs": [],
   "source": [
    "def test():\n",
    "    return [1,2,3,4,5,6]"
   ]
  },
  {
   "cell_type": "code",
   "execution_count": 6,
   "id": "50446ef8",
   "metadata": {},
   "outputs": [
    {
     "name": "stdout",
     "output_type": "stream",
     "text": [
      "[1, 2, 3, 4, 5, 6]\n"
     ]
    }
   ],
   "source": [
    "print(test())"
   ]
  },
  {
   "cell_type": "code",
   "execution_count": 7,
   "id": "d1a0754a",
   "metadata": {},
   "outputs": [
    {
     "name": "stdout",
     "output_type": "stream",
     "text": [
      "6\n"
     ]
    }
   ],
   "source": [
    "print(test()[-1])"
   ]
  },
  {
   "cell_type": "code",
   "execution_count": 8,
   "id": "41e1cdff",
   "metadata": {},
   "outputs": [
    {
     "name": "stdout",
     "output_type": "stream",
     "text": [
      "[2, 3, 4]\n"
     ]
    }
   ],
   "source": [
    "print(test()[1:4])"
   ]
  },
  {
   "cell_type": "code",
   "execution_count": 9,
   "id": "652bb4e4",
   "metadata": {},
   "outputs": [
    {
     "data": {
      "text/plain": [
       "6"
      ]
     },
     "execution_count": 9,
     "metadata": {},
     "output_type": "execute_result"
    }
   ],
   "source": [
    "l = test()\n",
    "l[-1]"
   ]
  },
  {
   "cell_type": "code",
   "execution_count": 10,
   "id": "6d81f2a7",
   "metadata": {},
   "outputs": [
    {
     "data": {
      "text/plain": [
       "('Una Cadena', 20, [1, 2, 3])"
      ]
     },
     "execution_count": 10,
     "metadata": {},
     "output_type": "execute_result"
    }
   ],
   "source": [
    "def test():\n",
    "    return \"Una Cadena\",20,[1,2,3]\n",
    "test()"
   ]
  },
  {
   "cell_type": "code",
   "execution_count": 11,
   "id": "c8271af4",
   "metadata": {},
   "outputs": [],
   "source": [
    "c,n,l = test()"
   ]
  },
  {
   "cell_type": "code",
   "execution_count": 12,
   "id": "189dea37",
   "metadata": {},
   "outputs": [
    {
     "name": "stdout",
     "output_type": "stream",
     "text": [
      "Una Cadena\n"
     ]
    }
   ],
   "source": [
    "print(c)"
   ]
  },
  {
   "cell_type": "code",
   "execution_count": 13,
   "id": "a5b88c06",
   "metadata": {},
   "outputs": [
    {
     "name": "stdout",
     "output_type": "stream",
     "text": [
      "[1, 2, 3]\n"
     ]
    }
   ],
   "source": [
    "print(l)"
   ]
  },
  {
   "cell_type": "code",
   "execution_count": null,
   "id": "880b6a4c",
   "metadata": {},
   "outputs": [],
   "source": []
  }
 ],
 "metadata": {
  "kernelspec": {
   "display_name": "Python 3 (ipykernel)",
   "language": "python",
   "name": "python3"
  },
  "language_info": {
   "codemirror_mode": {
    "name": "ipython",
    "version": 3
   },
   "file_extension": ".py",
   "mimetype": "text/x-python",
   "name": "python",
   "nbconvert_exporter": "python",
   "pygments_lexer": "ipython3",
   "version": "3.11.5"
  }
 },
 "nbformat": 4,
 "nbformat_minor": 5
}
