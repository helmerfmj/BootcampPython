{
 "cells": [
  {
   "cell_type": "code",
   "execution_count": 3,
   "id": "9a69b550",
   "metadata": {},
   "outputs": [
    {
     "name": "stdout",
     "output_type": "stream",
     "text": [
      "Hola!, Este print se llama desde la función saludar()\n"
     ]
    }
   ],
   "source": [
    "def saludar():\n",
    "    print(\"Hola!, Este print se llama desde la función saludar()\")\n",
    "saludar()"
   ]
  },
  {
   "cell_type": "code",
   "execution_count": 5,
   "id": "f55fa48f",
   "metadata": {},
   "outputs": [
    {
     "name": "stdout",
     "output_type": "stream",
     "text": [
      "5 * 0 = 0\n",
      "5 * 1 = 5\n",
      "5 * 2 = 10\n",
      "5 * 3 = 15\n",
      "5 * 4 = 20\n",
      "5 * 5 = 25\n",
      "5 * 6 = 30\n",
      "5 * 7 = 35\n",
      "5 * 8 = 40\n",
      "5 * 9 = 45\n"
     ]
    }
   ],
   "source": [
    "def dibujar_tabla_del_5():\n",
    "    for i in range(10):\n",
    "        print(\"5 * {} = {}\". format(i, i*5))\n",
    "dibujar_tabla_del_5()"
   ]
  },
  {
   "cell_type": "code",
   "execution_count": null,
   "id": "5ce6c3c9",
   "metadata": {},
   "outputs": [],
   "source": []
  }
 ],
 "metadata": {
  "kernelspec": {
   "display_name": "Python 3 (ipykernel)",
   "language": "python",
   "name": "python3"
  },
  "language_info": {
   "codemirror_mode": {
    "name": "ipython",
    "version": 3
   },
   "file_extension": ".py",
   "mimetype": "text/x-python",
   "name": "python",
   "nbconvert_exporter": "python",
   "pygments_lexer": "ipython3",
   "version": "3.11.5"
  }
 },
 "nbformat": 4,
 "nbformat_minor": 5
}
