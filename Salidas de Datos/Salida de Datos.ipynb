{
 "cells": [
  {
   "cell_type": "code",
   "execution_count": 1,
   "id": "706ce8ba",
   "metadata": {},
   "outputs": [
    {
     "name": "stdout",
     "output_type": "stream",
     "text": [
      "Un texto Otro ejemplo y un número 10\n"
     ]
    }
   ],
   "source": [
    "v = \"Otro ejemplo\"\n",
    "n = 10\n",
    "print(\"Un texto\",v,\"y un número\",n)"
   ]
  },
  {
   "cell_type": "code",
   "execution_count": 2,
   "id": "4ad7cc11",
   "metadata": {},
   "outputs": [
    {
     "name": "stdout",
     "output_type": "stream",
     "text": [
      "Un texto 'Otro ejemplo' y un número '10'\n"
     ]
    }
   ],
   "source": [
    "c = \"Un texto '{}' y un número '{}'\".format(v,n)\n",
    "print(c)"
   ]
  },
  {
   "cell_type": "code",
   "execution_count": 3,
   "id": "0aebdc6c",
   "metadata": {},
   "outputs": [
    {
     "name": "stdout",
     "output_type": "stream",
     "text": [
      "Un texto '10' y un número 'Otro ejemplo'\n"
     ]
    }
   ],
   "source": [
    "c = \"Un texto '{1}' y un número '{0}'\".format(v,n)\n",
    "print(c)"
   ]
  },
  {
   "cell_type": "code",
   "execution_count": 5,
   "id": "944d0be3",
   "metadata": {},
   "outputs": [
    {
     "name": "stdout",
     "output_type": "stream",
     "text": [
      "Un texto '10' y un número 'Otro ejemplo'\n"
     ]
    }
   ],
   "source": [
    "c = \"Un texto '{n}' y un número '{v}'\".format(v=v,n=n)\n",
    "print(c)"
   ]
  },
  {
   "cell_type": "code",
   "execution_count": 6,
   "id": "f0994f10",
   "metadata": {},
   "outputs": [
    {
     "name": "stdout",
     "output_type": "stream",
     "text": [
      "Otro ejemplo, Otro ejemplo, Otro ejemplo\n"
     ]
    }
   ],
   "source": [
    "c = \"{v}, {v}, {v}\".format(v=v)\n",
    "print(c)"
   ]
  },
  {
   "cell_type": "code",
   "execution_count": 7,
   "id": "1965030a",
   "metadata": {},
   "outputs": [
    {
     "name": "stdout",
     "output_type": "stream",
     "text": [
      "                       palabra\n"
     ]
    }
   ],
   "source": [
    "print(\"{:>30}\".format(\"palabra\"))"
   ]
  },
  {
   "cell_type": "code",
   "execution_count": 8,
   "id": "964a405a",
   "metadata": {},
   "outputs": [
    {
     "name": "stdout",
     "output_type": "stream",
     "text": [
      "           palabra            \n"
     ]
    }
   ],
   "source": [
    "print(\"{:^30}\".format(\"palabra\"))"
   ]
  },
  {
   "cell_type": "code",
   "execution_count": 11,
   "id": "21333287",
   "metadata": {},
   "outputs": [
    {
     "name": "stdout",
     "output_type": "stream",
     "text": [
      "palab\n"
     ]
    }
   ],
   "source": [
    "print(\"{:.5}\".format(\"palabra\"))"
   ]
  },
  {
   "cell_type": "code",
   "execution_count": 13,
   "id": "ebbd00df",
   "metadata": {},
   "outputs": [
    {
     "name": "stdout",
     "output_type": "stream",
     "text": [
      "                         palab\n"
     ]
    }
   ],
   "source": [
    "print(\"{:>30.5}\".format(\"palabra\"))"
   ]
  },
  {
   "cell_type": "code",
   "execution_count": 15,
   "id": "1583980c",
   "metadata": {},
   "outputs": [
    {
     "name": "stdout",
     "output_type": "stream",
     "text": [
      "  10\n",
      " 100\n",
      "1000\n"
     ]
    }
   ],
   "source": [
    "print(\"{:4d}\".format(10))\n",
    "print(\"{:4d}\".format(100))\n",
    "print(\"{:4d}\".format(1000))"
   ]
  },
  {
   "cell_type": "code",
   "execution_count": 16,
   "id": "9356dfed",
   "metadata": {},
   "outputs": [
    {
     "name": "stdout",
     "output_type": "stream",
     "text": [
      "0010\n",
      "0100\n",
      "1000\n"
     ]
    }
   ],
   "source": [
    "print(\"{:04d}\".format(10))\n",
    "print(\"{:04d}\".format(100))\n",
    "print(\"{:04d}\".format(1000))"
   ]
  },
  {
   "cell_type": "code",
   "execution_count": 17,
   "id": "ce7cb5c8",
   "metadata": {},
   "outputs": [
    {
     "name": "stdout",
     "output_type": "stream",
     "text": [
      "  3.142\n",
      "153.210\n"
     ]
    }
   ],
   "source": [
    "print(\"{:7.3f}\".format(3.1415926))\n",
    "print(\"{:7.3f}\".format(153.21))"
   ]
  },
  {
   "cell_type": "code",
   "execution_count": 18,
   "id": "8bed3c31",
   "metadata": {},
   "outputs": [
    {
     "name": "stdout",
     "output_type": "stream",
     "text": [
      "003.142\n",
      "153.210\n"
     ]
    }
   ],
   "source": [
    "print(\"{:07.3f}\".format(3.1415926))\n",
    "print(\"{:07.3f}\".format(153.21))"
   ]
  },
  {
   "cell_type": "code",
   "execution_count": 19,
   "id": "9aff2f0d",
   "metadata": {},
   "outputs": [
    {
     "name": "stdout",
     "output_type": "stream",
     "text": [
      "Nombre: Helmer, Edad: 38, Altura: 1.82 metros\n"
     ]
    }
   ],
   "source": [
    "nombre = \"Helmer\"\n",
    "edad = 38\n",
    "altura = 1.82\n",
    "\n",
    "print(\"Nombre: %s, Edad: %d, Altura: %.2f metros\" % (nombre, edad, altura))"
   ]
  },
  {
   "cell_type": "code",
   "execution_count": 20,
   "id": "2f16c142",
   "metadata": {},
   "outputs": [
    {
     "name": "stdout",
     "output_type": "stream",
     "text": [
      "Nombre: Helmer, Edad: 38, Altura: 1.82 metros\n"
     ]
    }
   ],
   "source": [
    "nombre = \"Helmer\"\n",
    "edad = 38\n",
    "altura = 1.82\n",
    "\n",
    "print(f\"Nombre: {nombre}, Edad: {edad}, Altura: {altura:.2f} metros\")"
   ]
  },
  {
   "cell_type": "code",
   "execution_count": 22,
   "id": "0ef0472b",
   "metadata": {},
   "outputs": [
    {
     "name": "stdout",
     "output_type": "stream",
     "text": [
      "Número grande: 1,000,000\n"
     ]
    }
   ],
   "source": [
    "numero_grande = 1000000\n",
    "print(f\"Número grande: {numero_grande:,}\")"
   ]
  },
  {
   "cell_type": "code",
   "execution_count": 23,
   "id": "b4c0c786",
   "metadata": {},
   "outputs": [
    {
     "name": "stdout",
     "output_type": "stream",
     "text": [
      "Número con notación científica: 5.000000e-08\n"
     ]
    }
   ],
   "source": [
    "numero_cientifico = 0.00000005\n",
    "print(f\"Número con notación científica: {numero_cientifico:e}\")"
   ]
  },
  {
   "cell_type": "code",
   "execution_count": 24,
   "id": "f15917a9",
   "metadata": {},
   "outputs": [
    {
     "name": "stdout",
     "output_type": "stream",
     "text": [
      "Número con notación científica compacta: 5.00e-08\n"
     ]
    }
   ],
   "source": [
    "print(f\"Número con notación científica compacta: {numero_cientifico:.2e}\")"
   ]
  },
  {
   "cell_type": "code",
   "execution_count": null,
   "id": "a8568002",
   "metadata": {},
   "outputs": [],
   "source": []
  }
 ],
 "metadata": {
  "kernelspec": {
   "display_name": "Python 3 (ipykernel)",
   "language": "python",
   "name": "python3"
  },
  "language_info": {
   "codemirror_mode": {
    "name": "ipython",
    "version": 3
   },
   "file_extension": ".py",
   "mimetype": "text/x-python",
   "name": "python",
   "nbconvert_exporter": "python",
   "pygments_lexer": "ipython3",
   "version": "3.11.5"
  }
 },
 "nbformat": 4,
 "nbformat_minor": 5
}
