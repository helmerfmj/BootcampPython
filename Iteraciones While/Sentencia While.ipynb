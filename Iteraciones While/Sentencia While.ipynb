{
 "cells": [
  {
   "cell_type": "code",
   "execution_count": 3,
   "id": "396ca13c",
   "metadata": {},
   "outputs": [
    {
     "name": "stdout",
     "output_type": "stream",
     "text": [
      "c vale  1\n",
      "c vale  2\n",
      "c vale  3\n",
      "c vale  4\n",
      "c vale  5\n",
      "c vale  6\n"
     ]
    }
   ],
   "source": [
    "c = 0\n",
    "while c <= 5:\n",
    "    c = c + 1\n",
    "    print(\"c vale \", c)"
   ]
  },
  {
   "cell_type": "code",
   "execution_count": 4,
   "id": "bd178553",
   "metadata": {},
   "outputs": [
    {
     "name": "stdout",
     "output_type": "stream",
     "text": [
      "c vale  1\n",
      "c vale  2\n",
      "c vale  3\n",
      "c vale  4\n",
      "c vale  5\n",
      "c vale  6\n",
      "Se ha completado toda la iteración y c vale  6\n"
     ]
    }
   ],
   "source": [
    "c = 0\n",
    "while c <= 5:\n",
    "    c = c + 1\n",
    "    print(\"c vale \", c)\n",
    "else:\n",
    "    print(\"Se ha completado toda la iteración y c vale \", c)"
   ]
  },
  {
   "cell_type": "code",
   "execution_count": 6,
   "id": "67545b49",
   "metadata": {},
   "outputs": [
    {
     "name": "stdout",
     "output_type": "stream",
     "text": [
      "c vale  1\n",
      "c vale  2\n",
      "c vale  3\n",
      "Rompemos la iteración cuando c vale  4\n"
     ]
    }
   ],
   "source": [
    "c = 0\n",
    "while c <= 5:\n",
    "    c = c + 1\n",
    "    # esto es un comentario\n",
    "    if c == 4:\n",
    "        print(\"Rompemos la iteración cuando c vale \", c)\n",
    "        break\n",
    "    print(\"c vale \", c)\n",
    "else:\n",
    "    print(\"Se ha completado toda la iteración y c vale \", c)"
   ]
  },
  {
   "cell_type": "code",
   "execution_count": 11,
   "id": "7cc00950",
   "metadata": {},
   "outputs": [
    {
     "name": "stdout",
     "output_type": "stream",
     "text": [
      "c vale  1\n",
      "c vale  2\n",
      "c vale  5\n",
      "c vale  6\n",
      "Se ha completado toda la iteración y c vale  6\n"
     ]
    }
   ],
   "source": [
    "c = 0\n",
    "while c <= 5:\n",
    "    c = c + 1\n",
    "    if c == 3 or c == 4:\n",
    "        continue\n",
    "    print(\"c vale \", c)\n",
    "else:\n",
    "    print(\"Se ha completado toda la iteración y c vale \", c)"
   ]
  },
  {
   "cell_type": "code",
   "execution_count": 13,
   "id": "96ed4755",
   "metadata": {},
   "outputs": [
    {
     "name": "stdout",
     "output_type": "stream",
     "text": [
      "Bienvenido al menú interactivo\n",
      "¿Qué quieres hacer?, Escribe una opción:\n",
      "    1) Saludar\n",
      "    2) Sumar dos números\n",
      "    3) Salir\n",
      "2\n",
      "introduce el primer número: 3\n",
      "introduce el segundo número: 4\n",
      "El resultado de la suma es:  7.0\n",
      "¿Qué quieres hacer?, Escribe una opción:\n",
      "    1) Saludar\n",
      "    2) Sumar dos números\n",
      "    3) Salir\n",
      "3\n",
      "¡Hasta luego!, Ha sido un placer ayudarte.\n"
     ]
    }
   ],
   "source": [
    "print(\"Bienvenido al menú interactivo\")\n",
    "while True:\n",
    "    print(\"\"\"¿Qué quieres hacer?, Escribe una opción:\n",
    "    1) Saludar\n",
    "    2) Sumar dos números\n",
    "    3) Salir\"\"\")\n",
    "    opcion = input()\n",
    "    if opcion == '1':\n",
    "        print(\"Hola, espero que te lo estés pasando bien\")\n",
    "    elif opcion == '2':\n",
    "        n1 = float(input(\"introduce el primer número: \"))\n",
    "        n2 = float(input(\"introduce el segundo número: \"))\n",
    "        print(\"El resultado de la suma es: \", n1+n2)\n",
    "    elif opcion == '3':\n",
    "        print(\"¡Hasta luego!, Ha sido un placer ayudarte.\")\n",
    "        break\n",
    "    else:\n",
    "        print(\"Comando no reconocido, vuelve a intentarlo\")"
   ]
  },
  {
   "cell_type": "code",
   "execution_count": null,
   "id": "0cba134d",
   "metadata": {},
   "outputs": [],
   "source": []
  }
 ],
 "metadata": {
  "kernelspec": {
   "display_name": "Python 3 (ipykernel)",
   "language": "python",
   "name": "python3"
  },
  "language_info": {
   "codemirror_mode": {
    "name": "ipython",
    "version": 3
   },
   "file_extension": ".py",
   "mimetype": "text/x-python",
   "name": "python",
   "nbconvert_exporter": "python",
   "pygments_lexer": "ipython3",
   "version": "3.11.5"
  }
 },
 "nbformat": 4,
 "nbformat_minor": 5
}
