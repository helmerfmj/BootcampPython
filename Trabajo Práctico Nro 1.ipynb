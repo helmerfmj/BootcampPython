{
 "cells": [
  {
   "cell_type": "code",
   "execution_count": 11,
   "id": "9704d46b",
   "metadata": {},
   "outputs": [
    {
     "name": "stdout",
     "output_type": "stream",
     "text": [
      "Ingrese un número entero positivo: 20\n",
      "2\n",
      "4\n",
      "6\n",
      "8\n",
      "10\n",
      "12\n",
      "14\n",
      "16\n",
      "18\n",
      "20\n",
      "La suma de los números pares hasta 20 es: 110\n"
     ]
    }
   ],
   "source": [
    "n = int(input(\"Ingrese un número entero positivo: \"))\n",
    "suma_pares = 0\n",
    "for i in range(2, n+1, 2):\n",
    "    print(i)\n",
    "    suma_pares += i\n",
    "print(\"La suma de los números pares hasta\", n, \"es:\", suma_pares)"
   ]
  },
  {
   "cell_type": "code",
   "execution_count": 5,
   "id": "4ce43b00",
   "metadata": {},
   "outputs": [
    {
     "name": "stdout",
     "output_type": "stream",
     "text": [
      "Ingrese un número entero positivo: 154\n",
      "Cantidad de dígitos pares: 1\n",
      "Cantidad de dígitos impares: 2\n"
     ]
    }
   ],
   "source": [
    "numero = input(\"Ingrese un número entero positivo: \")\n",
    "contador_pares = 0\n",
    "contador_impares = 0\n",
    "for digito in numero:\n",
    "    if int(digito) % 2 == 0:\n",
    "        contador_pares += 1\n",
    "    else:\n",
    "        contador_impares += 1\n",
    "print(\"Cantidad de dígitos pares:\", contador_pares)\n",
    "print(\"Cantidad de dígitos impares:\", contador_impares)"
   ]
  },
  {
   "cell_type": "code",
   "execution_count": 13,
   "id": "59039bc4",
   "metadata": {},
   "outputs": [
    {
     "name": "stdout",
     "output_type": "stream",
     "text": [
      "Ingrese un número entero no negativo: 10\n",
      "El factorial de 10 es: 3628800\n"
     ]
    }
   ],
   "source": [
    "numero = int(input(\"Ingrese un número entero no negativo: \"))\n",
    "factorial = 1\n",
    "if numero < 0:\n",
    "    print(\"El factorial de un número negativo no está definido.\")\n",
    "elif numero == 0:\n",
    "    print(\"El factorial de 0 es 1.\")\n",
    "else:\n",
    "    for i in range(1, numero + 1):\n",
    "        factorial *= i\n",
    "    print(\"El factorial de\", numero, \"es:\", factorial)"
   ]
  },
  {
   "cell_type": "code",
   "execution_count": 15,
   "id": "9f2039b0",
   "metadata": {},
   "outputs": [
    {
     "name": "stdout",
     "output_type": "stream",
     "text": [
      "Ingrese el nombre del producto: producto2\n",
      "Ingrese la cantidad deseada: 3\n",
      "Producto disponible. Inventario actualizado.\n"
     ]
    }
   ],
   "source": [
    "inventario = [\n",
    "    [\"producto1\", 10],\n",
    "    [\"producto2\", 5],\n",
    "    [\"producto3\", 20]\n",
    "]\n",
    "\n",
    "producto = input(\"Ingrese el nombre del producto: \")\n",
    "cantidad_deseada = int(input(\"Ingrese la cantidad deseada: \"))\n",
    "\n",
    "producto_en_inventario = False\n",
    "\n",
    "for item in inventario:\n",
    "    if item[0] == producto:\n",
    "        producto_en_inventario = True\n",
    "        if item[1] >= cantidad_deseada:\n",
    "            item[1] -= cantidad_deseada\n",
    "            print(\"Producto disponible. Inventario actualizado.\")\n",
    "        else:\n",
    "            print(\"El producto está agotado.\")\n",
    "        break\n",
    "\n",
    "if not producto_en_inventario:\n",
    "    print(\"El producto no se encuentra en el inventario.\")"
   ]
  },
  {
   "cell_type": "code",
   "execution_count": 16,
   "id": "95c62df1",
   "metadata": {},
   "outputs": [
    {
     "name": "stdout",
     "output_type": "stream",
     "text": [
      "Ingrese el número de estudiantes: 3\n",
      "Ingrese el puntaje mínimo para aprobar: 51\n",
      "Ingrese el nombre del estudiante 1: Maria\n",
      "Ingrese las notas del estudiante (separadas por espacios): 70 80 90\n",
      "Maria ha aprobado con un promedio de 80.0\n",
      "Ingrese el nombre del estudiante 2: Ana\n",
      "Ingrese las notas del estudiante (separadas por espacios): 40 20 30\n",
      "Ana ha reprobado con un promedio de 30.0\n",
      "Ingrese el nombre del estudiante 3: Luis\n",
      "Ingrese las notas del estudiante (separadas por espacios): 100 100 90\n",
      "Luis ha aprobado con un promedio de 96.66666666666667\n",
      "Promedio general de la clase: 68.8888888888889\n",
      "Cantidad de estudiantes aprobados: 2\n",
      "Cantidad de estudiantes reprobados: 1\n"
     ]
    }
   ],
   "source": [
    "num_estudiantes = int(input(\"Ingrese el número de estudiantes: \"))\n",
    "puntaje_minimo = float(input(\"Ingrese el puntaje mínimo para aprobar: \"))\n",
    "\n",
    "promedios = []\n",
    "aprobados = 0\n",
    "reprobados = 0\n",
    "\n",
    "for i in range(num_estudiantes):\n",
    "    nombre = input(\"Ingrese el nombre del estudiante {}: \".format(i+1))\n",
    "    notas = [float(x) for x in input(\"Ingrese las notas del estudiante (separadas por espacios): \").split()]\n",
    "    promedio = sum(notas) / len(notas)\n",
    "    promedios.append(promedio)\n",
    "    if promedio >= puntaje_minimo:\n",
    "        print(nombre, \"ha aprobado con un promedio de\", promedio)\n",
    "        aprobados += 1\n",
    "    else:\n",
    "        print(nombre, \"ha reprobado con un promedio de\", promedio)\n",
    "        reprobados += 1\n",
    "\n",
    "promedio_general = sum(promedios) / num_estudiantes\n",
    "print(\"Promedio general de la clase:\", promedio_general)\n",
    "print(\"Cantidad de estudiantes aprobados:\", aprobados)\n",
    "print(\"Cantidad de estudiantes reprobados:\", reprobados)"
   ]
  },
  {
   "cell_type": "code",
   "execution_count": 19,
   "id": "89f50ffa",
   "metadata": {},
   "outputs": [
    {
     "name": "stdout",
     "output_type": "stream",
     "text": [
      "Ingrese una contraseña: Prueba123\n",
      "La contraseña es válida.\n"
     ]
    }
   ],
   "source": [
    "contrasena = input(\"Ingrese una contraseña: \")\n",
    "\n",
    "tiene_mayuscula = any(c.isupper() for c in contrasena)\n",
    "tiene_minuscula = any(c.islower() for c in contrasena)\n",
    "tiene_numero = any(c.isdigit() for c in contrasena)\n",
    "longitud_valida = len(contrasena) >= 8\n",
    "\n",
    "if tiene_mayuscula and tiene_minuscula and tiene_numero and longitud_valida:\n",
    "    print(\"La contraseña es válida.\")\n",
    "else:\n",
    "    print(\"La contraseña no cumple con los criterios de complejidad.\")"
   ]
  },
  {
   "cell_type": "code",
   "execution_count": null,
   "id": "55ee2969",
   "metadata": {},
   "outputs": [],
   "source": []
  }
 ],
 "metadata": {
  "kernelspec": {
   "display_name": "Python 3 (ipykernel)",
   "language": "python",
   "name": "python3"
  },
  "language_info": {
   "codemirror_mode": {
    "name": "ipython",
    "version": 3
   },
   "file_extension": ".py",
   "mimetype": "text/x-python",
   "name": "python",
   "nbconvert_exporter": "python",
   "pygments_lexer": "ipython3",
   "version": "3.11.5"
  }
 },
 "nbformat": 4,
 "nbformat_minor": 5
}
